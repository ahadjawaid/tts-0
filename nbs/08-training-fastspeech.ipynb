{
 "cells": [
  {
   "cell_type": "code",
   "execution_count": null,
   "id": "802d5a75",
   "metadata": {},
   "outputs": [
    {
     "name": "stderr",
     "output_type": "stream",
     "text": [
      "/Users/tk541/mambaforge/envs/torch/lib/python3.10/site-packages/torchvision/io/image.py:13: UserWarning: Failed to load image Python extension: 'dlopen(/Users/tk541/mambaforge/envs/torch/lib/python3.10/site-packages/torchvision/image.so, 0x0006): Symbol not found: __ZN3c106detail19maybe_wrap_dim_slowIxEET_S2_S2_b\n",
      "  Referenced from: <7702F607-92FA-3D67-9D09-0710D936B85A> /Users/tk541/mambaforge/envs/torch/lib/python3.10/site-packages/torchvision/image.so\n",
      "  Expected in:     <1E9FA061-EA31-3736-81D0-79A33B965097> /Users/tk541/mambaforge/envs/torch/lib/python3.10/site-packages/torch/lib/libc10.dylib'If you don't plan on using image functionality from `torchvision.io`, you can ignore this warning. Otherwise, there might be something wrong with your environment. Did you have `libjpeg` or `libpng` installed before building `torchvision` from source?\n",
      "  warn(\n"
     ]
    }
   ],
   "source": [
    "from tts_0.fastspeech import FastSpeech\n",
    "from tts_0.tts_data import TTSDataset, collate_fn\n",
    "from torch.utils.data import DataLoader\n",
    "from functools import partial\n",
    "from tts_0.data import *"
   ]
  },
  {
   "cell_type": "code",
   "execution_count": null,
   "id": "865277f2",
   "metadata": {},
   "outputs": [],
   "source": [
    "path = '../../data/LJSpeech-1.1/wavs/'\n",
    "path_vocab = '../../fastspeech/sample_data/cmudict-0.7b.symbols.txt'"
   ]
  },
  {
   "cell_type": "code",
   "execution_count": null,
   "id": "5d367e67",
   "metadata": {},
   "outputs": [],
   "source": [
    "sample_rate = 16000\n",
    "hop_length = 256\n",
    "n_bins = 80\n",
    "n_fft = 1024"
   ]
  },
  {
   "cell_type": "code",
   "execution_count": null,
   "id": "724a399d",
   "metadata": {},
   "outputs": [
    {
     "data": {
      "application/vnd.jupyter.widget-view+json": {
       "model_id": "b0e5f298c942483aa8a3526a7c9d0062",
       "version_major": 2,
       "version_minor": 0
      },
      "text/plain": [
       "  0%|          | 0/13082 [00:00<?, ?it/s]"
      ]
     },
     "metadata": {},
     "output_type": "display_data"
    }
   ],
   "source": [
    "ds = TTSDataset(path, path_vocab, sample_rate, n_fft, hop_length, n_bins)"
   ]
  },
  {
   "cell_type": "code",
   "execution_count": null,
   "id": "e0213d42",
   "metadata": {},
   "outputs": [],
   "source": [
    "batch_size = 12\n",
    "n_workers = 0\n",
    "persistent_workers = False"
   ]
  },
  {
   "cell_type": "code",
   "execution_count": null,
   "id": "e8e1fa3e",
   "metadata": {},
   "outputs": [],
   "source": [
    "dl = DataLoader(ds, \n",
    "                batch_size, \n",
    "                shuffle=True, \n",
    "                num_workers=n_workers, \n",
    "                collate_fn=partial(collate_fn, pad_num=ds.vocab.pad_num),\n",
    "                persistent_workers=persistent_workers)"
   ]
  },
  {
   "cell_type": "code",
   "execution_count": null,
   "id": "19eee5e7",
   "metadata": {},
   "outputs": [],
   "source": [
    "dls = DataLoaders(dl, [])"
   ]
  },
  {
   "cell_type": "code",
   "execution_count": null,
   "id": "c604c16b",
   "metadata": {},
   "outputs": [],
   "source": [
    "import torch.nn as nn\n",
    "from tts_0.learn import *\n",
    "from typing import Callable, Sequence\n",
    "from torch.nn import Module\n",
    "from torch import optim\n",
    "import torch.nn.functional as F\n",
    "import fastcore.all as fc\n",
    "from torch import tensor"
   ]
  },
  {
   "cell_type": "code",
   "execution_count": null,
   "id": "e31dd056",
   "metadata": {},
   "outputs": [],
   "source": [
    "class TrainFastSpeech(Learner):\n",
    "    def __init__(self, model: Module, dls: DataLoaders, loss_fn: Callable, loss_fn_b: Callable, lr: float = 0.1, \n",
    "                 cbs: Sequence[Callback] = (), optimizer_fn: Callable = optim.SGD) -> None:\n",
    "        super().__init__(model, dls, loss_fn, lr, cbs, optimizer_fn)\n",
    "        self.loss_fn_b = loss_fn_b\n",
    "        \n",
    "    def predict(self) -> None:\n",
    "        phones, durations = self.batch[:2]\n",
    "\n",
    "        self.preds = self.model(phones, durations)\n",
    "    \n",
    "    def get_loss(self) -> None:\n",
    "        d_slice = (slice(None), slice(None, -1))\n",
    "        durations, mels, mel_alignment, duration_alignment = self.batch[1:]\n",
    "        bs = mels.shape[0]\n",
    "        \n",
    "        self.loss, self.duration_loss = tensor(0.), tensor(0.)\n",
    "        for i in range(bs):\n",
    "            mel_slice = (slice(None), slice(None, mel_alignment[i]))\n",
    "            duration_slice = slice(None, duration_alignment[i])\n",
    "            \n",
    "            self.loss += self.loss_fn(self.preds[0][i][mel_slice], mels[i][mel_slice]) / bs\n",
    "            self.duration_loss += self.loss_fn_b(self.preds[1][i][duration_slice], \n",
    "                                                 durations[i][duration_slice].to(torch.float)) / bs\n",
    "    \n",
    "    def backward(self) -> None:\n",
    "        self.loss.backward()\n",
    "        self.duration_loss.backward()\n",
    "    \n",
    "    def step(self) -> None:\n",
    "        self.optimizer.step()\n",
    "    \n",
    "    def zero_grad(self) -> None:\n",
    "        self.optimizer.zero_grad()"
   ]
  },
  {
   "cell_type": "code",
   "execution_count": null,
   "id": "3f378194",
   "metadata": {},
   "outputs": [],
   "source": [
    "class ShowMelCB(Callback):\n",
    "    def __init__(self, xb):\n",
    "        super().__init__()\n",
    "        self.xb = xb\n",
    "        \n",
    "    def after_epoch(self, learn):\n",
    "        with torch.no_grad():\n",
    "            phones, durations = self.xb[:2]\n",
    "\n",
    "            mel, _ = learn.model(phones, durations)\n",
    "        \n",
    "        show_mel(to_cpu(mel)[0])"
   ]
  },
  {
   "cell_type": "code",
   "execution_count": null,
   "id": "e9ac9aef",
   "metadata": {},
   "outputs": [],
   "source": [
    "class ScheduleLR(Callback):\n",
    "    def __init__(self, Scheduler, *args, **kwargs):\n",
    "        super().__init__()\n",
    "        self.Scheduler = Scheduler\n",
    "        self.args = args\n",
    "        self.kwargs = kwargs\n",
    "        \n",
    "    def before_fit(self, learn):\n",
    "        learn.scheduler = self.Scheduler(learn.optimizer, *self.args, **self.kwargs)\n",
    "        \n",
    "    def after_batch(self, learn):\n",
    "        learn.scheduler.step()"
   ]
  },
  {
   "cell_type": "code",
   "execution_count": null,
   "id": "8a6aa5ec",
   "metadata": {},
   "outputs": [],
   "source": [
    "def count_parameters(model):\n",
    "    return sum([param.numel() for param in list(model.parameters())])"
   ]
  },
  {
   "cell_type": "code",
   "execution_count": null,
   "id": "8e8013a2",
   "metadata": {},
   "outputs": [],
   "source": [
    "from torch.optim.lr_scheduler import OneCycleLR"
   ]
  },
  {
   "cell_type": "code",
   "execution_count": null,
   "id": "499cdc0c",
   "metadata": {},
   "outputs": [],
   "source": [
    "config = dict(\n",
    "    embedding_size = len(ds.vocab),\n",
    "    hidden_channels = 256,\n",
    "    filter_channels = 1024,\n",
    "    out_channels = n_bins,\n",
    "    ks = 5,\n",
    "    n_heads = 2,\n",
    "    n_hidden = 0,\n",
    "    p_dropout = 0.1,\n",
    "    n_encoders = 4,\n",
    "    n_decoder = 4,\n",
    "    Activation = nn.LeakyReLU,\n",
    "    device = None\n",
    ")"
   ]
  },
  {
   "cell_type": "code",
   "execution_count": null,
   "id": "31e77683",
   "metadata": {},
   "outputs": [
    {
     "data": {
      "text/plain": [
       "1091"
      ]
     },
     "execution_count": null,
     "metadata": {},
     "output_type": "execute_result"
    }
   ],
   "source": [
    "n_epochs = 1\n",
    "n_batches = len(dls.train)\n",
    "n_steps = n_batches * n_epochs\n",
    "n_steps"
   ]
  },
  {
   "cell_type": "code",
   "execution_count": null,
   "id": "2233e5cb",
   "metadata": {},
   "outputs": [
    {
     "data": {
      "text/plain": [
       "25757185"
      ]
     },
     "execution_count": null,
     "metadata": {},
     "output_type": "execute_result"
    }
   ],
   "source": [
    "model = FastSpeech(**config)\n",
    "count_parameters(model)"
   ]
  },
  {
   "cell_type": "code",
   "execution_count": null,
   "id": "888e1efe",
   "metadata": {},
   "outputs": [
    {
     "data": {
      "image/png": "[encoded data removed]",
      "text/plain": [
       "<Figure size 640x480 with 1 Axes>"
      ]
     },
     "metadata": {},
     "output_type": "display_data"
    }
   ],
   "source": [
    "TrainFastSpeech(model, dls, F.l1_loss, F.mse_loss, cbs=[]).lr_find(start_lr=1e-10)"
   ]
  },
  {
   "cell_type": "code",
   "execution_count": null,
   "id": "10e2d8e0",
   "metadata": {},
   "outputs": [],
   "source": [
    "max_lr = 4e-2\n",
    "\n",
    "cbs = [ScheduleLR(OneCycleLR, max_lr, n_steps), MetricsCB(), ProgressCB(True)]\n",
    "\n",
    "learn = TrainFastSpeech(model, dls, F.l1_loss, F.mse_loss, lr=max_lr, cbs=cbs)"
   ]
  },
  {
   "cell_type": "code",
   "execution_count": null,
   "id": "14cf2c39",
   "metadata": {},
   "outputs": [
    {
     "data": {
      "text/html": [
       "\n",
       "<style>\n",
       "    /* Turns off some styling */\n",
       "    progress {\n",
       "        /* gets rid of default border in Firefox and Opera. */\n",
       "        border: none;\n",
       "        /* Needs to be in here for Safari polyfill so background images work as expected. */\n",
       "        background-size: auto;\n",
       "    }\n",
       "    progress:not([value]), progress:not([value])::-webkit-progress-bar {\n",
       "        background: repeating-linear-gradient(45deg, #7e7e7e, #7e7e7e 10px, #5c5c5c 10px, #5c5c5c 20px);\n",
       "    }\n",
       "    .progress-bar-interrupted, .progress-bar-interrupted::-webkit-progress-bar {\n",
       "        background: #F44336;\n",
       "    }\n",
       "</style>\n"
      ],
      "text/plain": [
       "<IPython.core.display.HTML object>"
      ]
     },
     "metadata": {},
     "output_type": "display_data"
    },
    {
     "data": {
      "text/html": [
       "\n",
       "    <div>\n",
       "      <progress value='0' class='' max='1' style='width:300px; height:20px; vertical-align: middle;'></progress>\n",
       "      0.00% [0/1 00:00&lt;?]\n",
       "    </div>\n",
       "    \n",
       "\n",
       "\n",
       "    <div>\n",
       "      <progress value='82' class='' max='1091' style='width:300px; height:20px; vertical-align: middle;'></progress>\n",
       "      7.52% [82/1091 01:29&lt;18:24 0.259]\n",
       "    </div>\n",
       "    "
      ],
      "text/plain": [
       "<IPython.core.display.HTML object>"
      ]
     },
     "metadata": {},
     "output_type": "display_data"
    },
    {
     "data": {
      "image/png": "[encoded data removed]",
      "text/plain": [
       "<Figure size 600x400 with 1 Axes>"
      ]
     },
     "metadata": {},
     "output_type": "display_data"
    }
   ],
   "source": [
    "learn.fit(n_epochs, valid=False)"
   ]
  },
  {
   "cell_type": "code",
   "execution_count": null,
   "id": "91381718",
   "metadata": {},
   "outputs": [
    {
     "data": {
      "text/plain": [
       "123"
      ]
     },
     "execution_count": null,
     "metadata": {},
     "output_type": "execute_result"
    }
   ],
   "source": [
    "123"
   ]
  },
  {
   "cell_type": "code",
   "execution_count": null,
   "id": "e84aa8bc",
   "metadata": {},
   "outputs": [
    {
     "data": {
      "text/plain": [
       "123"
      ]
     },
     "execution_count": null,
     "metadata": {},
     "output_type": "execute_result"
    }
   ],
   "source": [
    "123"
   ]
  },
  {
   "cell_type": "code",
   "execution_count": null,
   "id": "62433e0a",
   "metadata": {},
   "outputs": [
    {
     "data": {
      "text/plain": [
       "123"
      ]
     },
     "execution_count": null,
     "metadata": {},
     "output_type": "execute_result"
    }
   ],
   "source": [
    "123"
   ]
  },
  {
   "cell_type": "code",
   "execution_count": null,
   "id": "a32559be",
   "metadata": {},
   "outputs": [],
   "source": []
  }
 ],
 "metadata": {
  "kernelspec": {
   "display_name": "python3",
   "language": "python",
   "name": "python3"
  }
 },
 "nbformat": 4,
 "nbformat_minor": 5
}
