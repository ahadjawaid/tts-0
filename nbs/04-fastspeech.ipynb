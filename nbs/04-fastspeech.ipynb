{
 "cells": [
  {
   "cell_type": "code",
   "execution_count": null,
   "id": "1cd89b41",
   "metadata": {},
   "outputs": [],
   "source": [
    "#| default_exp fastspeech"
   ]
  },
  {
   "cell_type": "markdown",
   "id": "57b3b963",
   "metadata": {},
   "source": [
    "# Fastspeech"
   ]
  },
  {
   "cell_type": "code",
   "execution_count": null,
   "id": "5f77096b",
   "metadata": {},
   "outputs": [],
   "source": [
    "#| export\n",
    "import torch\n",
    "import torch.nn as nn\n",
    "from torch import Tensor\n",
    "from math import sqrt\n",
    "from torch.nn import Module\n",
    "import torch.nn.functional as F\n",
    "from typing import Callable\n",
    "from functools import partial"
   ]
  },
  {
   "cell_type": "code",
   "execution_count": null,
   "id": "c8723184",
   "metadata": {},
   "outputs": [],
   "source": [
    "#| export\n",
    "def get_positional_embeddings(seq_len, # The length of the sequence\n",
    "                              d_model, # The hidden dimension of the model\n",
    "                              device: torch.device =None): # Device you want to use\n",
    "    pos = torch.arange(d_model, device=device)[None, :]\n",
    "    i = torch.arange(seq_len, device=device)[:, None]\n",
    "    angle = pos / torch.pow(10000, 2 * i / d_model)\n",
    "    pos_emb = torch.zeros(angle.shape, device=device)\n",
    "    pos_emb[0::2,:], pos_emb[1::2,:] = angle[0::2,:].sin(), angle[1::2,:].cos()\n",
    "    return pos_emb"
   ]
  },
  {
   "cell_type": "code",
   "execution_count": null,
   "id": "5da243a1",
   "metadata": {},
   "outputs": [],
   "source": [
    "#| export\n",
    "def scaled_dot_product(query: Tensor, key: Tensor, value: Tensor, mask: bool = False) -> Tensor:\n",
    "    key_dim = key.shape[-1]\n",
    "\n",
    "    scores = (query @ key.transpose(-1, -2)) / sqrt(key_dim)\n",
    "    \n",
    "    if mask:\n",
    "        scores_mask = torch.tril(torch.ones_like(scores))\n",
    "        scores = scores.masked_fill(scores_mask==0, float('-inf'))\n",
    "        \n",
    "    return F.softmax(scores, dim=-1) @ value"
   ]
  },
  {
   "cell_type": "code",
   "execution_count": null,
   "id": "5a5e5b8e",
   "metadata": {},
   "outputs": [],
   "source": [
    "#| export\n",
    "class AttentionHead(nn.Module):\n",
    "    def __init__(self, in_channels: int, out_channels: int, mask: bool = False) -> None:\n",
    "        super().__init__()\n",
    "        self.linear = nn.Linear(in_channels, out_channels*3, bias=False)\n",
    "        self.mask = mask\n",
    "    \n",
    "    def forward(self, x: Tensor) -> Tensor:\n",
    "        h = self.linear(x)\n",
    "        query, key, value = torch.chunk(h, chunks=3, dim=-1)\n",
    "        \n",
    "        attention_scores = scaled_dot_product(query, key, value, self.mask)\n",
    "        \n",
    "        return attention_scores"
   ]
  },
  {
   "cell_type": "code",
   "execution_count": null,
   "id": "e505f135",
   "metadata": {},
   "outputs": [],
   "source": [
    "#| export\n",
    "class MultiHeadAttention(nn.Module):\n",
    "    def __init__(self, in_channels: int, out_channels: int, n_heads: int, mask: bool = False) -> None:\n",
    "        super().__init__()\n",
    "        head_channels = in_channels // n_heads\n",
    "        self.attention_heads = nn.ModuleList([AttentionHead(in_channels, head_channels, mask) \n",
    "                                              for _ in range(n_heads)])\n",
    "        \n",
    "        self.linear = nn.Linear(in_channels, out_channels)\n",
    "    \n",
    "    def forward(self, x: Tensor) -> Tensor:\n",
    "        h = torch.cat([head(x) for head in self.attention_heads], dim=-1)\n",
    "        \n",
    "        return self.linear(h)"
   ]
  },
  {
   "cell_type": "code",
   "execution_count": null,
   "id": "3d3c780d",
   "metadata": {},
   "outputs": [],
   "source": [
    "#| export\n",
    "def get_padding(ks: int, dilation: int = 1) -> int:\n",
    "    return ((ks - 1) // 2) * dilation"
   ]
  },
  {
   "cell_type": "code",
   "execution_count": null,
   "id": "69f924b5",
   "metadata": {},
   "outputs": [],
   "source": [
    "#| export\n",
    "def conv(in_channels: int, \n",
    "         out_channels: int, \n",
    "         ks: int, \n",
    "         Activation: Module = None, \n",
    "         init_fn: Callable = None, \n",
    "         **kwargs\n",
    "        ) -> Module:\n",
    "    layers = [nn.Conv1d(in_channels, out_channels, ks, **kwargs)]\n",
    "    \n",
    "    if Activation is not None:\n",
    "        layers.append(Activation())\n",
    "        \n",
    "    if init_fn is not None:\n",
    "        init_fn(layers[0].weight)\n",
    "        \n",
    "    return nn.Sequential(*layers)"
   ]
  },
  {
   "cell_type": "code",
   "execution_count": null,
   "id": "ce4143a3",
   "metadata": {},
   "outputs": [
    {
     "data": {
      "text/plain": [
       "tensor([[-0.0023, -0.0178],\n",
       "        [-0.0123,  0.0168]], grad_fn=<LeakyReluBackward0>)"
      ]
     },
     "execution_count": null,
     "metadata": {},
     "output_type": "execute_result"
    }
   ],
   "source": [
    "#| hide\n",
    "c = conv(2, 2, 3, Activation=nn.LeakyReLU, init_fn=partial(nn.init.kaiming_normal_, a=0.1), padding=get_padding(3))\n",
    "c(torch.randn(2,2))"
   ]
  },
  {
   "cell_type": "code",
   "execution_count": null,
   "id": "4c4c7e0f",
   "metadata": {},
   "outputs": [],
   "source": [
    "#| export\n",
    "class ConvNet(Module):\n",
    "    def __init__(self, \n",
    "                 in_channels: int, \n",
    "                 hidden_channels: int, \n",
    "                 out_channels: int,\n",
    "                 ks: int,\n",
    "                 n_hidden: int = 0, \n",
    "                 p_dropout: float = 0.,\n",
    "                 Activation = None,\n",
    "                 init_fn: Callable = None,\n",
    "                ) -> None:\n",
    "        super().__init__()\n",
    "        self.in_layer = conv(in_channels, hidden_channels, ks, Activation, init_fn, padding=get_padding(ks))\n",
    "        \n",
    "        self.hidden = nn.Sequential(*[conv(hidden_channels, hidden_channels, ks, Activation, init_fn, padding=get_padding(ks))\n",
    "                                      for _ in range(n_hidden)])\n",
    "        \n",
    "        self.out_layer = conv(hidden_channels, out_channels, ks, Activation, init_fn, padding=get_padding(ks))\n",
    "        \n",
    "        self.dropout = nn.Dropout(p_dropout)\n",
    "    \n",
    "    def forward(self, x: Tensor) -> Tensor:\n",
    "        h = self.in_layer(x.transpose(-1, -2))\n",
    "        h = self.hidden(h)\n",
    "        h = self.out_layer(h)\n",
    "        return self.dropout(h).transpose(-1, -2)"
   ]
  },
  {
   "cell_type": "code",
   "execution_count": null,
   "id": "41818790",
   "metadata": {},
   "outputs": [
    {
     "data": {
      "text/plain": [
       "tensor([[ 0.0044, -0.2033],\n",
       "        [-0.0254, -0.2197]], grad_fn=<TransposeBackward0>)"
      ]
     },
     "execution_count": null,
     "metadata": {},
     "output_type": "execute_result"
    }
   ],
   "source": [
    "#| hide\n",
    "ConvNet(2, 10, 2, 3, 3, 0.1)(torch.randn(2,2))"
   ]
  },
  {
   "cell_type": "code",
   "execution_count": null,
   "id": "e316eb82",
   "metadata": {},
   "outputs": [],
   "source": [
    "#| export\n",
    "class FeedForwardTransformer(Module):\n",
    "    def __init__(self,\n",
    "                 channels: int,\n",
    "                 hidden_channels: int,  \n",
    "                 ks: int,\n",
    "                 n_heads: int = 1,\n",
    "                 n_hidden: int = 0,\n",
    "                 p_dropout: float = 0.,\n",
    "                 Activation: Module = None,\n",
    "                 init_fn: Callable = None,\n",
    "                ) -> None:\n",
    "        super().__init__()\n",
    "        self.norm1 = nn.LayerNorm(channels)\n",
    "        self.attention = MultiHeadAttention(channels, channels, n_heads)\n",
    "        \n",
    "        self.norm2 = nn.LayerNorm(channels)\n",
    "        self.conv = ConvNet(channels, hidden_channels, channels, ks, n_hidden, p_dropout, Activation, init_fn)\n",
    "    \n",
    "    def forward(self, x: Tensor) -> Tensor:\n",
    "        x = self.norm1(self.attention(x) + x)\n",
    "        x = self.norm2(self.conv(x) + x)\n",
    "        \n",
    "        return x"
   ]
  },
  {
   "cell_type": "code",
   "execution_count": null,
   "id": "2c2d2981",
   "metadata": {},
   "outputs": [
    {
     "data": {
      "text/plain": [
       "tensor([[ 1.3983, -0.5159, -0.8824],\n",
       "        [ 1.3570, -0.3336, -1.0234],\n",
       "        [-1.2568,  1.1899,  0.0669]], grad_fn=<NativeLayerNormBackward0>)"
      ]
     },
     "execution_count": null,
     "metadata": {},
     "output_type": "execute_result"
    }
   ],
   "source": [
    "#| hide\n",
    "FeedForwardTransformer(channels=3, hidden_channels=5, ks=3, n_heads=3, n_hidden=3)(torch.randn(3, 3))"
   ]
  },
  {
   "cell_type": "code",
   "execution_count": null,
   "id": "c2e94932",
   "metadata": {},
   "outputs": [],
   "source": [
    "#| export\n",
    "class VariencePredictor(Module):\n",
    "    def __init__(self, \n",
    "                 channels: int, \n",
    "                 hidden_channels: int, \n",
    "                 ks: int, \n",
    "                 p_dropout: float = 0., \n",
    "                 Activation: Module = None,\n",
    "                 init_fn: Callable = None\n",
    "                ) -> None:\n",
    "        super().__init__()\n",
    "        padding_sz = get_padding(ks)\n",
    "        self.convs = nn.ModuleList([conv(channels, hidden_channels, ks, Activation, init_fn, padding=padding_sz),\n",
    "                                    conv(hidden_channels, channels, ks, Activation, init_fn, padding=padding_sz)])\n",
    "        \n",
    "        self.norms = nn.ModuleList([nn.LayerNorm(hidden_channels), \n",
    "                                    nn.LayerNorm(channels)])\n",
    "        \n",
    "        self.linear = nn.Linear(channels, out_features=1)\n",
    "        \n",
    "        self.dropout = nn.Dropout(p_dropout)\n",
    "    \n",
    "    def forward(self, x: Tensor) -> Tensor:\n",
    "        for conv_layer, norm in zip(self.convs, self.norms):\n",
    "            x = conv_layer(x.transpose(-1, -2))\n",
    "            x = self.dropout(x)\n",
    "            x = norm(x.transpose(-1, -2))\n",
    "            \n",
    "        return self.linear(x).squeeze(-1)"
   ]
  },
  {
   "cell_type": "code",
   "execution_count": null,
   "id": "bb2c49bd",
   "metadata": {},
   "outputs": [
    {
     "data": {
      "text/plain": [
       "tensor([ 0.0255, -0.7227, -0.2340,  0.1048, -0.4414],\n",
       "       grad_fn=<SqueezeBackward1>)"
      ]
     },
     "execution_count": null,
     "metadata": {},
     "output_type": "execute_result"
    }
   ],
   "source": [
    "#| hide\n",
    "VariencePredictor(5, 10, 3, Activation=nn.ReLU)(torch.randn(5, 5))"
   ]
  },
  {
   "cell_type": "code",
   "execution_count": null,
   "id": "9a8c8da5",
   "metadata": {},
   "outputs": [],
   "source": [
    "#| export\n",
    "def length_regulator(x: Tensor, \n",
    "                     durations: Tensor, \n",
    "                     upsample_ratio: float = 1., \n",
    "                     device: str = None\n",
    "                    ) -> Tensor:\n",
    "    durations = (upsample_ratio * durations).to(torch.int)\n",
    "    \n",
    "    bs, _, nh  = x.shape\n",
    "    sequence_length = durations[0].sum().item()\n",
    "    \n",
    "    out = torch.zeros((bs, sequence_length, nh), device=device)\n",
    "    for i in range(bs):\n",
    "        out[i] = x[i].repeat_interleave(durations[i], dim=0)\n",
    "        \n",
    "    return out"
   ]
  },
  {
   "cell_type": "code",
   "execution_count": null,
   "id": "5dfc9b61",
   "metadata": {},
   "outputs": [
    {
     "data": {
      "text/plain": [
       "torch.Size([1, 6, 3])"
      ]
     },
     "execution_count": null,
     "metadata": {},
     "output_type": "execute_result"
    }
   ],
   "source": [
    "#| hide\n",
    "length_regulator(torch.randn(1, 3, 3), torch.ones(1, 3) * 2).shape"
   ]
  },
  {
   "cell_type": "code",
   "execution_count": null,
   "id": "7ae8649b",
   "metadata": {},
   "outputs": [],
   "source": [
    "#| export\n",
    "class FastSpeech(Module):\n",
    "    def __init__(self, \n",
    "                 embedding_size: int, \n",
    "                 hidden_channels: int, \n",
    "                 filter_channels: int,\n",
    "                 out_channels: int, \n",
    "                 ks: int,\n",
    "                 n_heads: int = 1,\n",
    "                 n_hidden: int = 0,\n",
    "                 p_dropout: float = 0.,\n",
    "                 n_encoders: int = 1, \n",
    "                 n_decoder: int = 1,\n",
    "                 Activation: Module = None,\n",
    "                 init_fn: Callable = None,\n",
    "                 device: str = None,\n",
    "                ) -> None:\n",
    "        super().__init__()\n",
    "        self.device = device\n",
    "        self.embeddings = nn.Embedding(embedding_size, hidden_channels)\n",
    "        \n",
    "        self.encoders = nn.Sequential(*[\n",
    "            FeedForwardTransformer(hidden_channels, filter_channels, ks, n_heads, n_hidden, p_dropout, Activation, init_fn)\n",
    "            for _ in range(n_encoders)\n",
    "        ])\n",
    "        \n",
    "        self.duration_predictor = VariencePredictor(hidden_channels, filter_channels, ks, p_dropout, Activation, init_fn)\n",
    "        \n",
    "        self.decoders = nn.Sequential(*[\n",
    "            FeedForwardTransformer(hidden_channels, filter_channels, ks, n_heads, n_hidden, p_dropout, Activation, init_fn)\n",
    "            for _ in range(n_decoder)\n",
    "        ])\n",
    "        \n",
    "        self.linear = nn.Linear(hidden_channels, out_channels, bias=False)\n",
    "    \n",
    "    def forward(self, x: Tensor, durations: Tensor = None, upsample_ratio: float = 1.) -> Tensor:\n",
    "        x = self.embeddings(x)\n",
    "        x = x + get_positional_embeddings(*x.shape[-2:], device=self.device)\n",
    "        x = self.encoders(x)\n",
    "        \n",
    "        durations_pred = self.duration_predictor(x.detach())\n",
    "        if durations is None or not self.training:\n",
    "            durations = durations_pred\n",
    "            \n",
    "        x = length_regulator(x, durations, upsample_ratio, device=self.device)\n",
    "        x = x + get_positional_embeddings(*x.shape[-2:], device=self.device)\n",
    "        \n",
    "        x = self.decoders(x)\n",
    "        x = self.linear(x).transpose(-1, -2)\n",
    "        \n",
    "        return (x, durations_pred) if self.training else x"
   ]
  },
  {
   "cell_type": "code",
   "execution_count": null,
   "id": "b8a6ccd1",
   "metadata": {},
   "outputs": [],
   "source": [
    "with torch.no_grad():\n",
    "    mel, durations = FastSpeech(86, 32, 24, 80, 3)(torch.randint(86, (1, 20)), torch.ones((1, 20)) * 2)"
   ]
  },
  {
   "cell_type": "code",
   "execution_count": null,
   "id": "c9461232",
   "metadata": {},
   "outputs": [],
   "source": [
    "#| hide\n",
    "from fastspeech.visualize import show_mel"
   ]
  },
  {
   "cell_type": "code",
   "execution_count": null,
   "id": "eb50e2ec",
   "metadata": {},
   "outputs": [
    {
     "data": {
      "image/png": "[encoded data removed]",
      "text/plain": [
       "<Figure size 640x480 with 1 Axes>"
      ]
     },
     "metadata": {},
     "output_type": "display_data"
    }
   ],
   "source": [
    "#| hide\n",
    "show_mel(mel[0])"
   ]
  },
  {
   "cell_type": "code",
   "execution_count": null,
   "id": "6892fac0",
   "metadata": {},
   "outputs": [],
   "source": [
    "import nbdev; nbdev.nbdev_export()"
   ]
  }
 ],
 "metadata": {
  "kernelspec": {
   "display_name": "python3",
   "language": "python",
   "name": "python3"
  }
 },
 "nbformat": 4,
 "nbformat_minor": 5
}
