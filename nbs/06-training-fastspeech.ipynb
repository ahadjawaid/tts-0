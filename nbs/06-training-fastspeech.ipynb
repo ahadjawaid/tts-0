{
 "cells": [
  {
   "cell_type": "code",
   "execution_count": null,
   "id": "314f01e5",
   "metadata": {},
   "outputs": [],
   "source": [
    "#| default_exp fastspeech_train"
   ]
  },
  {
   "cell_type": "markdown",
   "id": "bd402bd3",
   "metadata": {},
   "source": [
    "# Fastspeech Training"
   ]
  },
  {
   "cell_type": "code",
   "execution_count": null,
   "id": "a80ded9e",
   "metadata": {},
   "outputs": [
    {
     "name": "stderr",
     "output_type": "stream",
     "text": [
      "/Users/tk541/mambaforge/envs/torch/lib/python3.10/site-packages/torchvision/io/image.py:13: UserWarning: Failed to load image Python extension: 'dlopen(/Users/tk541/mambaforge/envs/torch/lib/python3.10/site-packages/torchvision/image.so, 0x0006): Symbol not found: __ZN3c106detail19maybe_wrap_dim_slowIxEET_S2_S2_b\n",
      "  Referenced from: <7702F607-92FA-3D67-9D09-0710D936B85A> /Users/tk541/mambaforge/envs/torch/lib/python3.10/site-packages/torchvision/image.so\n",
      "  Expected in:     <1E9FA061-EA31-3736-81D0-79A33B965097> /Users/tk541/mambaforge/envs/torch/lib/python3.10/site-packages/torch/lib/libc10.dylib'If you don't plan on using image functionality from `torchvision.io`, you can ignore this warning. Otherwise, there might be something wrong with your environment. Did you have `libjpeg` or `libpng` installed before building `torchvision` from source?\n",
      "  warn(\n"
     ]
    }
   ],
   "source": [
    "#| export\n",
    "from tts_0.fastspeech import FastSpeech\n",
    "from tts_0.tts_data import TTSDataset, collate_fn\n",
    "from torch.utils.data import DataLoader\n",
    "from functools import partial\n",
    "from tts_0.data import *"
   ]
  },
  {
   "cell_type": "code",
   "execution_count": null,
   "id": "788b0501",
   "metadata": {},
   "outputs": [],
   "source": [
    "#| export\n",
    "import torch.nn as nn\n",
    "from tts_0.learn import *\n",
    "from typing import Callable, Sequence\n",
    "from torch.nn import Module\n",
    "from torch import optim\n",
    "import torch.nn.functional as F\n",
    "import fastcore.all as fc\n",
    "from torch import tensor\n",
    "from torch.optim.lr_scheduler import OneCycleLR\n",
    "import torch\n",
    "from fastspeech.visualize import show_mel"
   ]
  },
  {
   "cell_type": "code",
   "execution_count": null,
   "id": "da2dbada",
   "metadata": {},
   "outputs": [],
   "source": [
    "#| export\n",
    "class TrainFastSpeech(Learner):\n",
    "    def __init__(self, model: Module, dls: DataLoaders, loss_fn: Callable, loss_fn_b: Callable, lr: float = 0.1, \n",
    "                 cbs: Sequence[Callback] = (), optimizer_fn: Callable = optim.SGD) -> None:\n",
    "        super().__init__(model, dls, loss_fn, lr, cbs, optimizer_fn)\n",
    "        self.loss_fn_b = loss_fn_b\n",
    "        \n",
    "    def predict(self) -> None:\n",
    "        phones, durations = self.batch[:2]\n",
    "\n",
    "        self.preds = self.model(phones, durations)\n",
    "    \n",
    "    def get_loss(self) -> None:\n",
    "        d_slice = (slice(None), slice(None, -1))\n",
    "        durations, mels, mel_alignment, duration_alignment = self.batch[1:]\n",
    "        bs = mels.shape[0]\n",
    "        \n",
    "        self.loss, self.duration_loss = tensor(0.), tensor(0.)\n",
    "        for i in range(bs):\n",
    "            mel_slice = (slice(None), slice(None, mel_alignment[i]))\n",
    "            duration_slice = slice(None, duration_alignment[i])\n",
    "            \n",
    "            self.loss += self.loss_fn(self.preds[0][i][mel_slice], mels[i][mel_slice]) / bs\n",
    "            self.duration_loss += self.loss_fn_b(self.preds[1][i][duration_slice], \n",
    "                                                 durations[i][duration_slice].to(torch.float)) / bs\n",
    "    \n",
    "    def backward(self) -> None:\n",
    "        self.loss.backward()\n",
    "        self.duration_loss.backward()\n",
    "    \n",
    "    def step(self) -> None:\n",
    "        self.optimizer.step()\n",
    "    \n",
    "    def zero_grad(self) -> None:\n",
    "        self.optimizer.zero_grad()"
   ]
  },
  {
   "cell_type": "code",
   "execution_count": null,
   "id": "5489084a",
   "metadata": {},
   "outputs": [],
   "source": [
    "#| export\n",
    "class ScheduleLR(Callback):\n",
    "    def __init__(self, Scheduler, *args, **kwargs):\n",
    "        super().__init__()\n",
    "        self.Scheduler = Scheduler\n",
    "        self.args = args\n",
    "        self.kwargs = kwargs\n",
    "        \n",
    "    def before_fit(self, learn):\n",
    "        learn.scheduler = self.Scheduler(learn.optimizer, *self.args, **self.kwargs)\n",
    "        \n",
    "    def after_batch(self, learn):\n",
    "        learn.scheduler.step()"
   ]
  },
  {
   "cell_type": "code",
   "execution_count": null,
   "id": "5bd31630",
   "metadata": {},
   "outputs": [],
   "source": [
    "#| export\n",
    "class ShowMelCB(Callback):\n",
    "    def __init__(self, xb, n_steps=500):\n",
    "        super().__init__()\n",
    "        fc.store_attr()\n",
    "        self.i = 0\n",
    "    \n",
    "    def _show_mel(self):\n",
    "        with torch.no_grad():\n",
    "            phones, durations = self.xb[:2]\n",
    "\n",
    "            mel, _ = learn.model(phones, durations)\n",
    "        \n",
    "        show_mel(to_cpu(mel)[0])\n",
    "        \n",
    "    def after_batch(self, learn):\n",
    "        if self.i % self.n_steps == 0:\n",
    "            self._show_mel()\n",
    "        self.i += 1"
   ]
  },
  {
   "cell_type": "code",
   "execution_count": null,
   "id": "86f15b88",
   "metadata": {},
   "outputs": [],
   "source": [
    "#| export\n",
    "class Hook:\n",
    "    def __init__(self, module: Module, func: Callable) -> None:\n",
    "        self.hook = module.register_forward_hook(partial(func, self))\n",
    "    \n",
    "    def __del__(self):\n",
    "        self.remove()\n",
    "        \n",
    "    def __enter__(self, *args):\n",
    "        return self\n",
    "    \n",
    "    def __exit__(self, *args):\n",
    "        self.remove()\n",
    "    \n",
    "    def remove(self):\n",
    "        self.hook.remove()"
   ]
  },
  {
   "cell_type": "code",
   "execution_count": null,
   "id": "233da85d",
   "metadata": {},
   "outputs": [],
   "source": [
    "#| export\n",
    "def count_parameters(model):\n",
    "    return sum([param.numel() for param in list(model.parameters())])"
   ]
  },
  {
   "cell_type": "code",
   "execution_count": null,
   "id": "5982e3b4",
   "metadata": {},
   "outputs": [],
   "source": [
    "#| hide\n",
    "path = '../../data/LJSpeech-1.1/wavs/'\n",
    "path_vocab = '../../fastspeech/sample_data/cmudict-0.7b.symbols.txt'"
   ]
  },
  {
   "cell_type": "code",
   "execution_count": null,
   "id": "1687242d",
   "metadata": {},
   "outputs": [],
   "source": [
    "#| hide\n",
    "sample_rate = 22050\n",
    "hop_length = 256\n",
    "n_bins = 80\n",
    "n_fft = 1024"
   ]
  },
  {
   "cell_type": "code",
   "execution_count": null,
   "id": "b27a201a",
   "metadata": {},
   "outputs": [
    {
     "data": {
      "application/vnd.jupyter.widget-view+json": {
       "model_id": "50f835796aee47ff8794137449d4f0a0",
       "version_major": 2,
       "version_minor": 0
      },
      "text/plain": [
       "  0%|          | 0/13082 [00:00<?, ?it/s]"
      ]
     },
     "metadata": {},
     "output_type": "display_data"
    }
   ],
   "source": [
    "ds = TTSDataset(path, path_vocab, sample_rate, n_fft, hop_length, n_bins)"
   ]
  },
  {
   "cell_type": "code",
   "execution_count": null,
   "id": "4a5faff0",
   "metadata": {},
   "outputs": [],
   "source": [
    "#| hide\n",
    "batch_size = 12\n",
    "n_workers = 0\n",
    "persistent_workers = False"
   ]
  },
  {
   "cell_type": "code",
   "execution_count": null,
   "id": "b6f5ff82",
   "metadata": {},
   "outputs": [],
   "source": [
    "dl = DataLoader(ds, \n",
    "                batch_size, \n",
    "                shuffle=True, \n",
    "                collate_fn=partial(collate_fn, pad_num=ds.vocab.pad_num))"
   ]
  },
  {
   "cell_type": "code",
   "execution_count": null,
   "id": "c8bcb7ae",
   "metadata": {},
   "outputs": [],
   "source": [
    "#| hide\n",
    "xb = next(iter(dl))\n",
    "dls = DataLoaders(dl, [])"
   ]
  },
  {
   "cell_type": "code",
   "execution_count": null,
   "id": "c307bf8d",
   "metadata": {},
   "outputs": [],
   "source": [
    "config = dict(\n",
    "    embedding_size = len(ds.vocab),\n",
    "    hidden_channels = 256,\n",
    "    filter_channels = 1024,\n",
    "    out_channels = n_bins,\n",
    "    ks = 3,\n",
    "    n_heads = 2,\n",
    "    n_hidden = 0,\n",
    "    p_dropout = 0.1,\n",
    "    n_encoders = 4,\n",
    "    n_decoder = 4,\n",
    "    Activation = nn.ReLU,\n",
    "    init_fn = partial(nn.init.kaiming_normal_, nonlinearity='relu'),\n",
    "    device = None\n",
    ")"
   ]
  },
  {
   "cell_type": "code",
   "execution_count": null,
   "id": "a175f342",
   "metadata": {},
   "outputs": [
    {
     "data": {
      "text/plain": [
       "1091"
      ]
     },
     "execution_count": null,
     "metadata": {},
     "output_type": "execute_result"
    }
   ],
   "source": [
    "#| hide\n",
    "n_epochs = 1\n",
    "n_batches = len(dls.train)\n",
    "n_steps = n_batches * n_epochs\n",
    "n_steps"
   ]
  },
  {
   "cell_type": "code",
   "execution_count": null,
   "id": "b8aa6a84",
   "metadata": {},
   "outputs": [
    {
     "data": {
      "text/plain": [
       "16320001"
      ]
     },
     "execution_count": null,
     "metadata": {},
     "output_type": "execute_result"
    }
   ],
   "source": [
    "model = FastSpeech(**config)\n",
    "count_parameters(model)"
   ]
  },
  {
   "cell_type": "code",
   "execution_count": null,
   "id": "1ebf590e",
   "metadata": {},
   "outputs": [
    {
     "data": {
      "image/png": "[encoded data removed]",
      "text/plain": [
       "<Figure size 640x480 with 1 Axes>"
      ]
     },
     "metadata": {},
     "output_type": "display_data"
    }
   ],
   "source": [
    "TrainFastSpeech(model, dls, F.l1_loss, F.mse_loss, cbs=[]).lr_find(start_lr=1e-10)"
   ]
  },
  {
   "cell_type": "code",
   "execution_count": null,
   "id": "97578ea6",
   "metadata": {},
   "outputs": [],
   "source": [
    "max_lr = 7e-2\n",
    "\n",
    "cbs = [ScheduleLR(OneCycleLR, max_lr, n_steps), MetricsCB(), ProgressCB(True), ShowMelCB(xb)]\n",
    "learn = TrainFastSpeech(model, dls, F.l1_loss, F.mse_loss, lr=max_lr, cbs=cbs)\n",
    "learn.fit(n_epochs, valid=False)"
   ]
  },
  {
   "cell_type": "code",
   "execution_count": null,
   "id": "8693cc39",
   "metadata": {},
   "outputs": [],
   "source": []
  }
 ],
 "metadata": {
  "kernelspec": {
   "display_name": "python3",
   "language": "python",
   "name": "python3"
  },
  "language_info": {
   "name": "python",
   "version": "3.10.8"
  }
 },
 "nbformat": 4,
 "nbformat_minor": 5
}
