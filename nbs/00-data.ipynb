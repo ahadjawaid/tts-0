{
 "cells": [
  {
   "cell_type": "code",
   "execution_count": null,
   "id": "0e006459",
   "metadata": {},
   "outputs": [],
   "source": [
    "#| default_exp data"
   ]
  },
  {
   "cell_type": "markdown",
   "id": "9d6d514c",
   "metadata": {},
   "source": [
    "# Data"
   ]
  },
  {
   "cell_type": "code",
   "execution_count": null,
   "id": "f9192802",
   "metadata": {},
   "outputs": [],
   "source": [
    "#| export\n",
    "from datasets.dataset_dict import DatasetDict\n",
    "import torchvision.transforms.functional as TF\n",
    "from datasets import load_dataset\n",
    "from operator import itemgetter\n",
    "from typing import Tuple, Mapping, Sequence\n",
    "import torch\n",
    "from torch import Tensor\n",
    "from torch.utils.data import DataLoader, Dataset, default_collate"
   ]
  },
  {
   "cell_type": "code",
   "execution_count": null,
   "id": "6e3b89fd",
   "metadata": {},
   "outputs": [],
   "source": [
    "#| export\n",
    "def get_dls(train_ds: Dataset, valid_ds: Dataset, \n",
    "            bs: int, **kwargs) -> Tuple[DataLoader, DataLoader]:\n",
    "    return (DataLoader(train_ds, bs, shuffle=True, **kwargs),\n",
    "            DataLoader(valid_ds, bs, shuffle=False, **kwargs))\n",
    "\n",
    "class DataLoaders:\n",
    "    def __init__(self, *dls: DataLoader) -> None:\n",
    "        self.train, self.valid = dls[:2]\n",
    "        \n",
    "    @classmethod\n",
    "    def from_dd(cls, dd: DatasetDict, bs: int, **kwargs):\n",
    "        fn = collate_dict(dd['train'])\n",
    "        dls = get_dls(*dd.values(), bs=bs, collate_fn=fn, **kwargs)\n",
    "        \n",
    "        return cls(*dls)"
   ]
  },
  {
   "cell_type": "code",
   "execution_count": null,
   "id": "6a9694d7",
   "metadata": {},
   "outputs": [
    {
     "name": "stderr",
     "output_type": "stream",
     "text": [
      "Found cached dataset fashion_mnist (/Users/tk541/.cache/huggingface/datasets/fashion_mnist/fashion_mnist/1.0.0/0a671f063342996f19779d38c0ab4abef9c64f757b35af8134b331c294d7ba48)\n"
     ]
    },
    {
     "data": {
      "application/vnd.jupyter.widget-view+json": {
       "model_id": "ecb7dbc6dc174edab3145c2a2e5dc84b",
       "version_major": 2,
       "version_minor": 0
      },
      "text/plain": [
       "  0%|          | 0/2 [00:00<?, ?it/s]"
      ]
     },
     "metadata": {},
     "output_type": "display_data"
    }
   ],
   "source": [
    "x, y = \"image\", \"label\"\n",
    "name = \"fashion_mnist\"\n",
    "dsd = load_dataset(name)\n",
    "\n",
    "def transform(b):\n",
    "    b[x] = [torch.flatten(TF.to_tensor(o)) for o in b[x]]\n",
    "    return b\n",
    "\n",
    "bs = 1024\n",
    "tds = dsd.with_transform(transform)\n",
    "dls = Dataloaders.from_dd(tds, bs)"
   ]
  },
  {
   "cell_type": "code",
   "execution_count": null,
   "id": "10a3bbc1",
   "metadata": {},
   "outputs": [],
   "source": [
    "#| export\n",
    "def_device = \"mps\" if torch.backends.mps.is_available() else \"cuda\" if torch.cuda.is_available() else \"cpu\""
   ]
  },
  {
   "cell_type": "code",
   "execution_count": null,
   "id": "09f8de3e",
   "metadata": {},
   "outputs": [],
   "source": [
    "#| export\n",
    "def to_device(x: Tensor, device: str = def_device) -> Tensor:\n",
    "    if isinstance(x, Tensor): \n",
    "        return x.to(device)\n",
    "        \n",
    "    if isinstance(x, Mapping): \n",
    "        return {key: value.to(device) for key, value in x.items()}\n",
    "        \n",
    "    return type(x)(to_device(item) for item in x)\n",
    "\n",
    "def to_cpu(x: Tensor) -> Tensor:\n",
    "    if isinstance(x, Mapping):\n",
    "        return {key: to_cpu(value) for key, value in x}\n",
    "    \n",
    "    if isinstance(x, Sequence):\n",
    "        return type(x)(to_cpu(item) for item in x)\n",
    "        \n",
    "    result = x.detach().cpu()\n",
    "    \n",
    "    return result.float() if result.dtype == torch.float16 else result"
   ]
  },
  {
   "cell_type": "code",
   "execution_count": null,
   "id": "3985699f",
   "metadata": {},
   "outputs": [],
   "source": [
    "#| export\n",
    "def collate_dict(ds):\n",
    "    get = itemgetter(*ds.features)\n",
    "    \n",
    "    def _fn(b):\n",
    "        return get(default_collate(b))\n",
    "    \n",
    "    return _fn\n",
    "\n",
    "def collate_device(b):\n",
    "    return to_device(default_collate(b))"
   ]
  },
  {
   "cell_type": "code",
   "execution_count": null,
   "id": "82b49ac0",
   "metadata": {},
   "outputs": [],
   "source": [
    "import nbdev; nbdev.nbdev_export()"
   ]
  }
 ],
 "metadata": {
  "kernelspec": {
   "display_name": "python3",
   "language": "python",
   "name": "python3"
  }
 },
 "nbformat": 4,
 "nbformat_minor": 5
}
