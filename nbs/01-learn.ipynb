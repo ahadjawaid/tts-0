{
 "cells": [
  {
   "cell_type": "code",
   "execution_count": null,
   "id": "0b94688e",
   "metadata": {},
   "outputs": [],
   "source": [
    "#| default_exp learn"
   ]
  },
  {
   "cell_type": "code",
   "execution_count": null,
   "id": "51424ade",
   "metadata": {},
   "outputs": [
    {
     "name": "stderr",
     "output_type": "stream",
     "text": [
      "/Users/tk541/mambaforge/envs/torch/lib/python3.10/site-packages/torchvision/io/image.py:13: UserWarning: Failed to load image Python extension: 'dlopen(/Users/tk541/mambaforge/envs/torch/lib/python3.10/site-packages/torchvision/image.so, 0x0006): Symbol not found: __ZN3c106detail19maybe_wrap_dim_slowIxEET_S2_S2_b\n",
      "  Referenced from: <7702F607-92FA-3D67-9D09-0710D936B85A> /Users/tk541/mambaforge/envs/torch/lib/python3.10/site-packages/torchvision/image.so\n",
      "  Expected in:     <1E9FA061-EA31-3736-81D0-79A33B965097> /Users/tk541/mambaforge/envs/torch/lib/python3.10/site-packages/torch/lib/libc10.dylib'If you don't plan on using image functionality from `torchvision.io`, you can ignore this warning. Otherwise, there might be something wrong with your environment. Did you have `libjpeg` or `libpng` installed before building `torchvision` from source?\n",
      "  warn(\n"
     ]
    }
   ],
   "source": [
    "#| export\n",
    "from torcheval.metrics import MulticlassAccuracy, Mean\n",
    "from typing import Any, Callable, Sequence, Mapping\n",
    "from torch.optim.lr_scheduler import ExponentialLR\n",
    "from fastprogress import progress_bar, master_bar\n",
    "from operator import attrgetter\n",
    "import matplotlib.pyplot as plt\n",
    "from functools import partial\n",
    "from torch.nn import Module\n",
    "import fastcore.all as fc\n",
    "from tts_0.data import *\n",
    "from torch import optim\n",
    "from copy import copy\n",
    "import math\n",
    "import torch"
   ]
  },
  {
   "cell_type": "code",
   "execution_count": null,
   "id": "d2ff0f26",
   "metadata": {},
   "outputs": [],
   "source": [
    "#| hide\n",
    "from datasets import load_dataset\n",
    "import torchvision.transforms.functional as TF"
   ]
  },
  {
   "cell_type": "markdown",
   "id": "4963cde7",
   "metadata": {},
   "source": [
    "# Learner"
   ]
  },
  {
   "cell_type": "code",
   "execution_count": null,
   "id": "700b5c75",
   "metadata": {},
   "outputs": [
    {
     "name": "stderr",
     "output_type": "stream",
     "text": [
      "Found cached dataset fashion_mnist (/Users/tk541/.cache/huggingface/datasets/fashion_mnist/fashion_mnist/1.0.0/0a671f063342996f19779d38c0ab4abef9c64f757b35af8134b331c294d7ba48)\n"
     ]
    },
    {
     "data": {
      "application/vnd.jupyter.widget-view+json": {
       "model_id": "f99da54f02fa4db481abfd46f122c4b6",
       "version_major": 2,
       "version_minor": 0
      },
      "text/plain": [
       "  0%|          | 0/2 [00:00<?, ?it/s]"
      ]
     },
     "metadata": {},
     "output_type": "display_data"
    }
   ],
   "source": [
    "#| hide\n",
    "x, y = \"image\", \"label\"\n",
    "name = \"fashion_mnist\"\n",
    "dsd = load_dataset(name)\n",
    "\n",
    "def transform(b):\n",
    "    b[x] = [torch.flatten(TF.to_tensor(o)) for o in b[x]]\n",
    "    return b\n",
    "\n",
    "bs = 1024\n",
    "tds = dsd.with_transform(transform)\n",
    "dls = DataLoaders.from_dd(tds, bs)"
   ]
  },
  {
   "cell_type": "code",
   "execution_count": null,
   "id": "5ed3a99f",
   "metadata": {},
   "outputs": [],
   "source": [
    "#| hide\n",
    "import torch.nn as nn\n",
    "import torch.nn.functional as F"
   ]
  },
  {
   "cell_type": "code",
   "execution_count": null,
   "id": "7223bd2e",
   "metadata": {},
   "outputs": [],
   "source": [
    "#| hide\n",
    "def get_model():\n",
    "    model = nn.Sequential(nn.Linear(784, 200), nn.ReLU(), nn.Linear(200, 10))\n",
    "    return model"
   ]
  },
  {
   "cell_type": "code",
   "execution_count": null,
   "id": "507b7b2d",
   "metadata": {},
   "outputs": [],
   "source": [
    "#| export\n",
    "class Callback:\n",
    "    order = 0"
   ]
  },
  {
   "cell_type": "code",
   "execution_count": null,
   "id": "ce89006e",
   "metadata": {},
   "outputs": [],
   "source": [
    "#| export\n",
    "class CancelFitException(Exception): pass\n",
    "class CancelEpochException(Exception): pass\n",
    "class CancelBatchException(Exception): pass"
   ]
  },
  {
   "cell_type": "code",
   "execution_count": null,
   "id": "8dcac9af",
   "metadata": {},
   "outputs": [],
   "source": [
    "#| export\n",
    "class WithCB:\n",
    "    def __init__(self, name: str) -> None:\n",
    "        self.name = name\n",
    "    \n",
    "    def __call__(self, fn: Callable) -> Callable:\n",
    "        def _fn(obj: object, *args, **kwargs):\n",
    "            try:\n",
    "                obj.callback(f\"before_{self.name}\")\n",
    "                fn(obj, *args, **kwargs)\n",
    "                obj.callback(f\"after_{self.name}\")  \n",
    "            except globals()[f\"Cancel{self.name.capitalize()}Exception\"]:\n",
    "                pass\n",
    "            finally:\n",
    "                obj.callback(f\"cleanup_{self.name}\")\n",
    "                \n",
    "        return _fn"
   ]
  },
  {
   "cell_type": "code",
   "execution_count": null,
   "id": "63aea6ad",
   "metadata": {},
   "outputs": [],
   "source": [
    "#| export\n",
    "class LRFinderCB(Callback):\n",
    "    def __init__(self, gamma: float = 1.3, max_mult: float = 2.5) -> None:\n",
    "        fc.store_attr()\n",
    "    \n",
    "    def before_fit(self, learn) -> None:\n",
    "        self.losses, self.lrs, self.min = [], [], math.inf\n",
    "        learn.scheduler = ExponentialLR(learn.optimizer, self.gamma)\n",
    "    \n",
    "    def after_batch(self, learn) -> None:\n",
    "        if not learn.training:\n",
    "            raise CancelEpochException()\n",
    "        \n",
    "        lr = learn.optimizer.param_groups[0]['lr']\n",
    "        loss = to_cpu(learn.loss)\n",
    "        \n",
    "        self.lrs.append(lr)\n",
    "        self.losses.append(loss)\n",
    "        \n",
    "        self.min = min(self.min, loss)\n",
    "        if math.isnan(loss) or loss > self.min*self.max_mult:\n",
    "            raise CancelFitException()\n",
    "        \n",
    "        learn.scheduler.step()\n",
    "    \n",
    "    def cleanup_fit(self, learn) -> None:\n",
    "        plt.plot(self.lrs, self.losses)\n",
    "        plt.xscale(\"log\")\n",
    "        plt.xlabel(\"Learning Rate\")\n",
    "        plt.ylabel(\"Loss\")"
   ]
  },
  {
   "cell_type": "code",
   "execution_count": null,
   "id": "8c43a74c",
   "metadata": {},
   "outputs": [],
   "source": [
    "#| export\n",
    "class Learner:\n",
    "    def __init__(self, model: Module, dls: DataLoaders, loss_fn: Callable, lr: float = 0.1, \n",
    "                 cbs: Sequence[Callback] = (), optimizer_fn: Callable = optim.SGD) -> None:\n",
    "        fc.store_attr()\n",
    "    \n",
    "    def __getattr__(self, attribute) -> Callable:\n",
    "        if attribute in [\"predict\", \"get_loss\", \"backward\", \"step\", \"zero_grad\"]:\n",
    "            return partial(self.callback, attribute)\n",
    "        raise AttributeError(attribute)\n",
    "    \n",
    "    @property\n",
    "    def training(self) -> bool:\n",
    "        return self.model.training\n",
    "    \n",
    "    def callback(self, method_name: str) -> None:\n",
    "        self._run_callback(self.cbs, method_name)\n",
    "    \n",
    "    def _run_callback(self, cbs: Sequence[Callback], method_name: str) -> None:\n",
    "        for cb in sorted(cbs, key=attrgetter(\"order\")):\n",
    "            method = getattr(cb, method_name, None)\n",
    "            if method is not None: method(self)\n",
    "                \n",
    "    def fit(self, n_epochs: int, train: bool = True, valid: bool = True, \n",
    "            cbs: Sequence[Callback] = (), lr: float = None) -> None:\n",
    "        for cb in cbs: self.cbs.append(cb)\n",
    "        try:\n",
    "            self.n_epochs = n_epochs\n",
    "            self.epochs = range(n_epochs)\n",
    "            \n",
    "            if lr is None: lr = self.lr\n",
    "                \n",
    "            if self.optimizer_fn: \n",
    "                self.optimizer = self.optimizer_fn(self.model.parameters(), lr)\n",
    "            \n",
    "            self._fit(train, valid)            \n",
    "        finally:\n",
    "            for cb in cbs: self.cbs.remove(cb)\n",
    "    \n",
    "    @WithCB(\"fit\")\n",
    "    def _fit(self, train: bool, valid: bool) -> None:\n",
    "        for self.epoch in self.epochs:\n",
    "            if train: self.one_epoch(training=True)\n",
    "            if valid: torch.no_grad()(self.one_epoch)(training=False)\n",
    "    \n",
    "    def one_epoch(self, training: bool) -> None:\n",
    "        self.model.train(training)\n",
    "        self.dl = self.dls.train if training else self.dls.valid\n",
    "        self._one_epoch()\n",
    "    \n",
    "    @WithCB(\"epoch\")\n",
    "    def _one_epoch(self) -> None:\n",
    "        for self.iter, self.batch in enumerate(self.dl):\n",
    "            self._one_batch()\n",
    "    \n",
    "    @WithCB(\"batch\")\n",
    "    def _one_batch(self) -> None:\n",
    "        self.predict()\n",
    "        self.callback(\"after_predict\")\n",
    "        self.get_loss()\n",
    "        self.callback(\"after_loss\")\n",
    "        if self.training:\n",
    "            self.backward()\n",
    "            self.callback(\"after_backward\")\n",
    "            self.step()\n",
    "            self.callback(\"after_step\")\n",
    "            self.zero_grad()\n",
    "            \n",
    "    def lr_find(self, gamma: float = 1.3, max_mult: float = 2.5, \n",
    "                start_lr: float = 1e-5, max_epochs: int = 10):\n",
    "        self.fit(max_epochs, train=True, valid=False, cbs=[LRFinderCB(gamma, max_mult)], \n",
    "                 lr=start_lr)"
   ]
  },
  {
   "cell_type": "code",
   "execution_count": null,
   "id": "059ef2ba",
   "metadata": {},
   "outputs": [],
   "source": [
    "#| export\n",
    "class TrainLearner(Learner):\n",
    "    def predict(self) -> None:\n",
    "        x = self.batch[0]\n",
    "        self.preds = self.model(x)\n",
    "    \n",
    "    def get_loss(self) -> None:\n",
    "        y = self.batch[1]\n",
    "        self.loss = self.loss_fn(self.preds, y)\n",
    "    \n",
    "    def backward(self) -> None:\n",
    "        self.loss.backward()\n",
    "    \n",
    "    def step(self) -> None:\n",
    "        self.optimizer.step()\n",
    "    \n",
    "    def zero_grad(self) -> None:\n",
    "        self.optimizer.zero_grad()"
   ]
  },
  {
   "cell_type": "code",
   "execution_count": null,
   "id": "bd9fc751",
   "metadata": {},
   "outputs": [
    {
     "data": {
      "image/png": "[encoded data removed]",
      "text/plain": [
       "<Figure size 640x480 with 1 Axes>"
      ]
     },
     "metadata": {},
     "output_type": "display_data"
    }
   ],
   "source": [
    "TrainLearner(get_model(), dls, F.cross_entropy, cbs=[]).lr_find()"
   ]
  },
  {
   "cell_type": "code",
   "execution_count": null,
   "id": "3321cab9",
   "metadata": {},
   "outputs": [],
   "source": [
    "#| export\n",
    "class CountBatchsCB(Callback):\n",
    "    count = 0\n",
    "    def after_batch(self, learn: Learner) -> None:\n",
    "        self.count += 1\n",
    "    \n",
    "    def cleanup_fit(self, learn: Learner) -> None:\n",
    "        print(f\"Number of Batches: {self.count}\")"
   ]
  },
  {
   "cell_type": "code",
   "execution_count": null,
   "id": "cad9c5a5",
   "metadata": {},
   "outputs": [
    {
     "name": "stdout",
     "output_type": "stream",
     "text": [
      "Number of Batches: 69\n"
     ]
    }
   ],
   "source": [
    "TrainLearner(get_model(), dls, F.cross_entropy, cbs=[CountBatchsCB()]).fit(1)"
   ]
  },
  {
   "cell_type": "code",
   "execution_count": null,
   "id": "f0f60dd0",
   "metadata": {},
   "outputs": [],
   "source": [
    "#| export\n",
    "class SingleBatchCB(Callback):\n",
    "    def after_batch(self, learn: Learner) -> None:\n",
    "        raise CancelFitException()"
   ]
  },
  {
   "cell_type": "code",
   "execution_count": null,
   "id": "0afb2307",
   "metadata": {},
   "outputs": [
    {
     "name": "stdout",
     "output_type": "stream",
     "text": [
      "Number of Batches: 1\n"
     ]
    }
   ],
   "source": [
    "TrainLearner(get_model(), dls, F.cross_entropy, cbs=[CountBatchsCB(), SingleBatchCB()]).fit(1)"
   ]
  },
  {
   "cell_type": "code",
   "execution_count": null,
   "id": "76a9e6cf",
   "metadata": {},
   "outputs": [],
   "source": [
    "#| export\n",
    "class TrainCB(Callback):\n",
    "    def __init__(self, n_inputs: int = 1) -> None:\n",
    "        self.n_inputs = n_inputs\n",
    "    \n",
    "    def predict(self, learn: Learner) -> None:\n",
    "        x = learn.batch[:self.n_inputs]\n",
    "        learn.preds = learn.model(*x)\n",
    "    \n",
    "    def get_loss(self, learn: Learner) -> None:\n",
    "        y = learn.batch[self.n_inputs:]\n",
    "        learn.loss = learn.loss_fn(learn.preds, *y)\n",
    "    \n",
    "    def backward(self, learn: Learner) -> None:\n",
    "        learn.loss.backward()\n",
    "    \n",
    "    def step(self, learn: Learner) -> None:\n",
    "        learn.optimizer.step()\n",
    "    \n",
    "    def zero_grad(self, learn: Learner) -> None:\n",
    "        learn.optimizer.zero_grad()"
   ]
  },
  {
   "cell_type": "code",
   "execution_count": null,
   "id": "22a84080",
   "metadata": {},
   "outputs": [
    {
     "name": "stdout",
     "output_type": "stream",
     "text": [
      "Number of Batches: 69\n"
     ]
    }
   ],
   "source": [
    "Learner(get_model(), dls, F.cross_entropy, cbs=[TrainCB(), CountBatchsCB()]).fit(1)"
   ]
  },
  {
   "cell_type": "code",
   "execution_count": null,
   "id": "083949a8",
   "metadata": {},
   "outputs": [],
   "source": [
    "#| export\n",
    "class DeviceCB(Callback):\n",
    "    def __init__(self, device: str = def_device) -> None:\n",
    "        self.device = device\n",
    "    \n",
    "    def before_fit(self, learn: Learner) -> None:\n",
    "        if hasattr(learn.model, \"to\"):\n",
    "            learn.model.to(self.device)\n",
    "    \n",
    "    def before_batch(self, learn: Learner) -> None:\n",
    "        learn.batch = to_device(learn.batch, device=self.device)"
   ]
  },
  {
   "cell_type": "code",
   "execution_count": null,
   "id": "cce49b8e",
   "metadata": {},
   "outputs": [
    {
     "name": "stdout",
     "output_type": "stream",
     "text": [
      "Number of Batches: 69\n"
     ]
    }
   ],
   "source": [
    "TrainLearner(get_model(), dls, F.cross_entropy, cbs=[DeviceCB(), CountBatchsCB()]).fit(1)"
   ]
  },
  {
   "cell_type": "code",
   "execution_count": null,
   "id": "057a73a9",
   "metadata": {},
   "outputs": [],
   "source": [
    "#| export\n",
    "class MetricsCB(Callback):\n",
    "    def __init__(self, *ms, **metrics) -> None:\n",
    "        for item in ms:\n",
    "            metrics[type(item).__name__] = item\n",
    "    \n",
    "        self.metrics = metrics\n",
    "        self.all_metrics = copy(metrics)\n",
    "        self.all_metrics[\"loss\"] = self.loss = Mean()\n",
    "    \n",
    "    def _log(self, d: dict, *args, **kwargs) -> None:\n",
    "        print(d)\n",
    "    \n",
    "    def before_fit(self, learn: Learner) -> None:\n",
    "        learn.metrics = self\n",
    "    \n",
    "    def before_epoch(self, learn: Learner) -> None:\n",
    "        for metric in self.all_metrics.values():\n",
    "            metric.reset()\n",
    "    \n",
    "    def after_batch(self, learn: Learner) -> None:\n",
    "        x, y, *_ = learn.batch\n",
    "        \n",
    "        for metric in self.metrics.values():\n",
    "            metric.update(to_cpu(learn.preds), y)\n",
    "        \n",
    "        self.loss.update(to_cpu(learn.loss), weight=len(x))\n",
    "    \n",
    "    def after_epoch(self, learn: Learner) -> None:\n",
    "        log = {key: f\"{value.compute():.3f}\" for key, value in self.all_metrics.items()}\n",
    "        log[\"epoch\"] = learn.epoch\n",
    "        log[\"type\"] = \"train\" if learn.training else \"eval\"\n",
    "        \n",
    "        self._log(log, learn=learn)"
   ]
  },
  {
   "cell_type": "code",
   "execution_count": null,
   "id": "b2ba80ac",
   "metadata": {},
   "outputs": [
    {
     "name": "stdout",
     "output_type": "stream",
     "text": [
      "{'accuracy': '0.615', 'loss': '1.363', 'epoch': 0, 'type': 'train'}\n",
      "{'accuracy': '0.664', 'loss': '0.902', 'epoch': 0, 'type': 'eval'}\n"
     ]
    }
   ],
   "source": [
    "TrainLearner(get_model(), dls, F.cross_entropy, \n",
    "             cbs=[MetricsCB(accuracy=MulticlassAccuracy())]).fit(1)"
   ]
  },
  {
   "cell_type": "code",
   "execution_count": null,
   "id": "c2a14b3b",
   "metadata": {},
   "outputs": [],
   "source": [
    "#| export\n",
    "class ProgressCB(Callback):\n",
    "    order = MetricsCB.order + 1\n",
    "    \n",
    "    def __init__(self, plot: bool = False) -> None:\n",
    "        self.plot = plot\n",
    "    \n",
    "    def _log(self, d: dict, *args, **kwargs) -> None:\n",
    "        if self.first:\n",
    "            self.mbar.write(list(d), table=True)\n",
    "            self.first = False\n",
    "            \n",
    "        self.mbar.write(list(d.values()), table=True)\n",
    "    \n",
    "    def before_fit(self, learn: Learner) -> None:\n",
    "        if hasattr(learn, \"metrics\"):\n",
    "            learn.metrics._log = self._log\n",
    "        \n",
    "        learn.epochs = self.mbar = master_bar(learn.epochs)\n",
    "        self.losses, self.valid_losses = [], []\n",
    "        self.first = True\n",
    "    \n",
    "    def before_epoch(self, learn: Learner) -> None:\n",
    "        learn.dl = progress_bar(learn.dl, leave=True, parent=self.mbar) \n",
    "\n",
    "    def after_batch(self, learn: Learner) -> None:\n",
    "        if self.plot and hasattr(learn, 'metrics') and learn.training:\n",
    "            self.losses.append(learn.loss.item())\n",
    "            self.mbar.update_graph([[fc.L.range(self.losses), self.losses]])\n",
    "\n",
    "        learn.dl.comment = f'{learn.loss:.3f}'"
   ]
  },
  {
   "cell_type": "code",
   "execution_count": null,
   "id": "8c4b9ede",
   "metadata": {},
   "outputs": [
    {
     "data": {
      "text/html": [
       "\n",
       "<style>\n",
       "    /* Turns off some styling */\n",
       "    progress {\n",
       "        /* gets rid of default border in Firefox and Opera. */\n",
       "        border: none;\n",
       "        /* Needs to be in here for Safari polyfill so background images work as expected. */\n",
       "        background-size: auto;\n",
       "    }\n",
       "    progress:not([value]), progress:not([value])::-webkit-progress-bar {\n",
       "        background: repeating-linear-gradient(45deg, #7e7e7e, #7e7e7e 10px, #5c5c5c 10px, #5c5c5c 20px);\n",
       "    }\n",
       "    .progress-bar-interrupted, .progress-bar-interrupted::-webkit-progress-bar {\n",
       "        background: #F44336;\n",
       "    }\n",
       "</style>\n"
      ],
      "text/plain": [
       "<IPython.core.display.HTML object>"
      ]
     },
     "metadata": {},
     "output_type": "display_data"
    },
    {
     "data": {
      "text/html": [
       "<table border=\"1\" class=\"dataframe\">\n",
       "  <thead>\n",
       "    <tr style=\"text-align: left;\">\n",
       "      <th>accuracy</th>\n",
       "      <th>loss</th>\n",
       "      <th>epoch</th>\n",
       "      <th>type</th>\n",
       "    </tr>\n",
       "  </thead>\n",
       "  <tbody>\n",
       "    <tr>\n",
       "      <td>0.614</td>\n",
       "      <td>1.337</td>\n",
       "      <td>0</td>\n",
       "      <td>train</td>\n",
       "    </tr>\n",
       "    <tr>\n",
       "      <td>0.698</td>\n",
       "      <td>0.880</td>\n",
       "      <td>0</td>\n",
       "      <td>eval</td>\n",
       "    </tr>\n",
       "    <tr>\n",
       "      <td>0.721</td>\n",
       "      <td>0.786</td>\n",
       "      <td>1</td>\n",
       "      <td>train</td>\n",
       "    </tr>\n",
       "    <tr>\n",
       "      <td>0.744</td>\n",
       "      <td>0.734</td>\n",
       "      <td>1</td>\n",
       "      <td>eval</td>\n",
       "    </tr>\n",
       "  </tbody>\n",
       "</table>"
      ],
      "text/plain": [
       "<IPython.core.display.HTML object>"
      ]
     },
     "metadata": {},
     "output_type": "display_data"
    },
    {
     "data": {
      "image/png": "[encoded data removed]",
      "text/plain": [
       "<Figure size 600x400 with 1 Axes>"
      ]
     },
     "metadata": {},
     "output_type": "display_data"
    }
   ],
   "source": [
    "TrainLearner(get_model(), dls, F.cross_entropy, \n",
    "             cbs=[MetricCB(accuracy=MulticlassAccuracy()), ProgressCB(True)]).fit(2)"
   ]
  },
  {
   "cell_type": "code",
   "execution_count": null,
   "id": "110ced9a",
   "metadata": {},
   "outputs": [],
   "source": [
    "import nbdev; nbdev.nbdev_export()"
   ]
  }
 ],
 "metadata": {
  "kernelspec": {
   "display_name": "python3",
   "language": "python",
   "name": "python3"
  }
 },
 "nbformat": 4,
 "nbformat_minor": 5
}
