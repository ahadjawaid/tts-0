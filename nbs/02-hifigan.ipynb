{
 "cells": [
  {
   "cell_type": "code",
   "execution_count": null,
   "id": "9c3b44a7",
   "metadata": {},
   "outputs": [],
   "source": [
    "#| default_exp hifigan"
   ]
  },
  {
   "cell_type": "code",
   "execution_count": null,
   "id": "39b44752",
   "metadata": {},
   "outputs": [],
   "source": [
    "#| export\n",
    "import torch\n",
    "import torch.nn as nn\n",
    "from math import sqrt\n",
    "from typing import Sequence\n",
    "from torch import Tensor\n",
    "import torch.nn.functional as F\n",
    "import fastcore.all as fc"
   ]
  },
  {
   "cell_type": "code",
   "execution_count": null,
   "id": "26a22660",
   "metadata": {},
   "outputs": [],
   "source": [
    "#| hide\n",
    "import matplotlib.pyplot as plt"
   ]
  },
  {
   "cell_type": "markdown",
   "id": "7245f819",
   "metadata": {},
   "source": [
    "# HiFi-Gan"
   ]
  },
  {
   "cell_type": "markdown",
   "id": "54c83054",
   "metadata": {},
   "source": [
    "## Generator"
   ]
  },
  {
   "cell_type": "code",
   "execution_count": null,
   "id": "09c53d27",
   "metadata": {},
   "outputs": [],
   "source": [
    "#| hide\n",
    "tens = torch.randn(24,24)"
   ]
  },
  {
   "cell_type": "code",
   "execution_count": null,
   "id": "fd102eb7",
   "metadata": {},
   "outputs": [],
   "source": [
    "#| export\n",
    "def get_padding(ks: int, dilation: int = 1) -> int:\n",
    "    return ((ks - 1) // 2) * dilation"
   ]
  },
  {
   "cell_type": "code",
   "execution_count": null,
   "id": "38c55476",
   "metadata": {},
   "outputs": [],
   "source": [
    "assert get_padding(7, 1) == 3"
   ]
  },
  {
   "cell_type": "code",
   "execution_count": null,
   "id": "08a8adf7",
   "metadata": {},
   "outputs": [],
   "source": [
    "def conv(ni: int, nh: int, ks: int, d: int = 1, Act: nn.Module = nn.LeakyReLU, **kwargs) -> nn.Module:\n",
    "    result = nn.Conv1d(ni, nh, ks, dilation=d, **kwargs)\n",
    "    if Act:\n",
    "        result = nn.Sequential(Act(), result)\n",
    "    return result"
   ]
  },
  {
   "cell_type": "code",
   "execution_count": null,
   "id": "200c721c",
   "metadata": {},
   "outputs": [],
   "source": [
    "assert list(conv(24, 24, 3)(tens).shape) == [24, 22]"
   ]
  },
  {
   "cell_type": "code",
   "execution_count": null,
   "id": "bd82a2ec",
   "metadata": {},
   "outputs": [],
   "source": [
    "class ResLayer(nn.Module):\n",
    "    def __init__(self, ni: int, nh: int, ks: int, dilations: Sequence[int] = 1, Act: nn.Module = nn.LeakyReLU, \n",
    "                 **kwargs) -> None:\n",
    "        super().__init__()\n",
    "        self.layers = nn.Sequential(*[conv(ni, nh, ks, d, Act, padding=get_padding(ks, d), **kwargs) \n",
    "                                     for d in dilations])\n",
    "    \n",
    "    def forward(self, x: Tensor) -> Tensor:\n",
    "        return x + self.layers(x)"
   ]
  },
  {
   "cell_type": "code",
   "execution_count": null,
   "id": "3915cb31",
   "metadata": {},
   "outputs": [],
   "source": [
    "assert list(ResLayer(24, 24, 3, [3,1])(tens).shape) == [24, 24]"
   ]
  },
  {
   "cell_type": "code",
   "execution_count": null,
   "id": "85465ca1",
   "metadata": {},
   "outputs": [],
   "source": [
    "class ResBlock(nn.Module):\n",
    "    def __init__(self, ni: int, nh: int, ks: int, dilations: Sequence[Sequence[int]], \n",
    "                 Act: nn.Module = nn.LeakyReLU, **kwargs) -> None:\n",
    "        super().__init__()\n",
    "        self.blocks = nn.Sequential(*[ResLayer(ni, nh, ks, d, Act) for d in dilations])\n",
    "        \n",
    "    def forward(self, x) -> Tensor:\n",
    "        return self.blocks(x)"
   ]
  },
  {
   "cell_type": "code",
   "execution_count": null,
   "id": "3cfab9a5",
   "metadata": {},
   "outputs": [],
   "source": [
    "assert list(ResBlock(24, 24, 3, [[3, 1], [1,1]])(tens).shape) == [24, 24]"
   ]
  },
  {
   "cell_type": "markdown",
   "id": "51e5389c",
   "metadata": {},
   "source": [
    "MRF_dilations = [ [ [ # Convolution Layers ] # Residual Layers ] # Residual Blocks ]"
   ]
  },
  {
   "cell_type": "code",
   "execution_count": null,
   "id": "0eb72cae",
   "metadata": {},
   "outputs": [],
   "source": [
    "class MultiReceptiveField(nn.Module):\n",
    "    def __init__(self, ni: int, nh: int, blocks_ks: Sequence[int], dilations: Sequence[Sequence[Sequence[int]]],\n",
    "                 Act: nn.Module = nn.LeakyReLU, **kwargs) -> None:\n",
    "        super().__init__()\n",
    "        self.blocks = [ResBlock(ni, nh, ks, d, Act, **kwargs) for ks, d in zip(blocks_ks, dilations)]\n",
    "    \n",
    "    def forward(self, x) -> Tensor:\n",
    "        h = torch.zeros_like(x)\n",
    "        for block in self.blocks:\n",
    "            h = h + block(x)\n",
    "        return h"
   ]
  },
  {
   "cell_type": "code",
   "execution_count": null,
   "id": "b9a6df8e",
   "metadata": {},
   "outputs": [],
   "source": [
    "assert list(MultiReceptiveField(24, 24, [3, 7], [[[3, 1], [1,1]]] * 2)(tens).shape) == [24, 24]"
   ]
  },
  {
   "cell_type": "code",
   "execution_count": null,
   "id": "bcd5f576",
   "metadata": {},
   "outputs": [],
   "source": [
    "class Generator(nn.Module):\n",
    "    def __init__(self, ni: int, nh: int, transpose_ks: Sequence[int], mrf_ks: Sequence[int], \n",
    "                 dilations: Sequence[Sequence[Sequence[int]]], Act: nn.Module = nn.LeakyReLU, **kwargs) -> None:\n",
    "        super().__init__()\n",
    "        pre_conv = conv(ni, nh, ks=7, Act=None, padding=get_padding(7))\n",
    "        \n",
    "        generator_layers = []\n",
    "        for i, ks, in enumerate(transpose_ks):\n",
    "            in_channels, out_channels = nh // (2**i), nh // (2**(i+1))\n",
    "            upsample_rate = out_channels // 2\n",
    "            \n",
    "            generator_layers.append(nn.ConvTranspose1d(in_channels, \n",
    "                                                       out_channels, \n",
    "                                                       ks, \n",
    "                                                       stride=upsample_rate, \n",
    "                                                       padding=0,\n",
    "                                                       **kwargs))\n",
    "                                    \n",
    "            generator_layers.append(MultiReceptiveField(out_channels, \n",
    "                                                        out_channels, \n",
    "                                                        mrf_ks, \n",
    "                                                        dilations, \n",
    "                                                        Act, \n",
    "                                                        **kwargs))\n",
    "        \n",
    "        post_layers = nn.Sequential(conv(ni=out_channels, nh=1, ks=7, padding=get_padding(ks=7)), nn.Tanh())\n",
    "        \n",
    "        self.layers = nn.Sequential(pre_conv, *generator_layers, post_layers)\n",
    "    \n",
    "    def forward(self, x) -> Tensor:\n",
    "        return self.layers(x)"
   ]
  },
  {
   "cell_type": "code",
   "execution_count": null,
   "id": "c673a223",
   "metadata": {},
   "outputs": [],
   "source": [
    "t = torch.randn(80, 100)"
   ]
  },
  {
   "cell_type": "code",
   "execution_count": null,
   "id": "655156d2",
   "metadata": {},
   "outputs": [],
   "source": [
    "generator_config = {\n",
    "    \"ni\": 80,\n",
    "    \"nh\": 128,\n",
    "    \"transpose_ks\": [16, 16, 4, 4],\n",
    "    \"mrf_ks\": [3, 7, 11],\n",
    "    \"dilations\": [[[1, 1], [3, 1], [5, 1]]] * 3,\n",
    "    \"Act\": nn.LeakyReLU,\n",
    "}"
   ]
  },
  {
   "cell_type": "code",
   "execution_count": null,
   "id": "00c01010",
   "metadata": {},
   "outputs": [
    {
     "data": {
      "text/plain": [
       "torch.Size([1, 1630192])"
      ]
     },
     "execution_count": null,
     "metadata": {},
     "output_type": "execute_result"
    }
   ],
   "source": [
    "Generator(**generator_config)(t).shape"
   ]
  },
  {
   "cell_type": "code",
   "execution_count": null,
   "id": "8b0eac0c",
   "metadata": {},
   "outputs": [
    {
     "data": {
      "image/png": "[encoded data removed]",
      "text/plain": [
       "<Figure size 640x480 with 1 Axes>"
      ]
     },
     "metadata": {},
     "output_type": "display_data"
    }
   ],
   "source": [
    "plt.imshow(t, origin='lower');"
   ]
  },
  {
   "cell_type": "markdown",
   "id": "9f709ca1",
   "metadata": {},
   "source": [
    "## Discriminator"
   ]
  },
  {
   "cell_type": "code",
   "execution_count": null,
   "id": "b4dc7b34",
   "metadata": {},
   "outputs": [],
   "source": []
  },
  {
   "cell_type": "code",
   "execution_count": null,
   "id": "23451b48",
   "metadata": {},
   "outputs": [],
   "source": []
  },
  {
   "cell_type": "code",
   "execution_count": null,
   "id": "a30f1745",
   "metadata": {},
   "outputs": [],
   "source": []
  },
  {
   "cell_type": "code",
   "execution_count": null,
   "id": "c998f1f9",
   "metadata": {},
   "outputs": [],
   "source": [
    "import nbdev; nbdev.nbdev_export()"
   ]
  }
 ],
 "metadata": {
  "kernelspec": {
   "display_name": "python3",
   "language": "python",
   "name": "python3"
  }
 },
 "nbformat": 4,
 "nbformat_minor": 5
}
